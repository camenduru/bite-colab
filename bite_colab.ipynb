{
    "nbformat": 4,
    "nbformat_minor": 0,
    "metadata": {
      "colab": {
        "provenance": [],
        "gpuType": "T4"
      },
      "kernelspec": {
        "name": "python3",
        "display_name": "Python 3"
      },
      "language_info": {
        "name": "python"
      },
      "accelerator": "GPU"
    },
    "cells": [
        {
          "cell_type": "markdown",
          "metadata": {
            "id": "view-in-github"
          },
          "source": [
            "[![Open In Colab](https://colab.research.google.com/assets/colab-badge.svg)](https://colab.research.google.com/github/camenduru/bite-colab/blob/main/bite_colab.ipynb)"
          ]
        },
      {
        "cell_type": "code",
        "source": [
          "!git clone -b dev https://github.com/camenduru/bite_gradio-hf\n",
          "!git clone https://huggingface.co/camenduru/bite\n",
          "!mv /content/bite/checkpoint /content/bite_gradio-hf/checkpoint\n",
          "!mv /content/bite/data /content/bite_gradio-hf/data\n",
          "!mv /content/bite/datasets /content/bite_gradio-hf/datasets\n",
          "!rm -rf /content/bite\n",
          "%cd /content/bite_gradio-hf\n",
          "!pip install -r requirements.txt\n",
          "%cd /content/bite_gradio-hf\n",
          "!python ./scripts/gradio_demo.py"
        ],
        "metadata": {
          "id": "iD6mUtt78AB8"
        },
        "execution_count": null,
        "outputs": []
      }
    ]
  }